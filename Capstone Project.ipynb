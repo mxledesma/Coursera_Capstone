{
    "cells": [
        {
            "metadata": {
                "collapsed": true
            },
            "cell_type": "markdown",
            "source": "### The Final Week Capstone Project"
        },
        {
            "metadata": {},
            "cell_type": "markdown",
            "source": "### Problem Statement:\nMy family and I would like to go to Canada. We are justifying which city to choose from. Would it be Toronto, Canada \nor Montreal Canada.  We need to see the similarities and disimilarities of both cities.  We will get to see the most common venues for both."
        },
        {
            "metadata": {},
            "cell_type": "markdown",
            "source": "### Project Background:\nToronto and Montreal are two distinct flavor Canadian cities. Toronto is a financial capital of Canada and may be a modern city and Montreal \nis seen as more historic, cultural and Europe-leaning, particularly in regard to its French roots. As a data Scientist, we will see both of the cities venues."
        },
        {
            "metadata": {},
            "cell_type": "markdown",
            "source": "### Data & Resources used\nList of postal codes of Canada Wiki: https://en.wikipedia.org/wiki/List_of_postal_codes_of_Canada:_M for access to neighborhood data of Toronto region.\n\nList of postal codes of Canada Wiki https://en.wikipedia.org/wiki/List_of_postal_codes_of_Canada:_H for access to neighborhood data of Montreal region.\n\nGeolocator or geographical coordinates of the neighborhoods: http://cocl.us/Geospatial_data for getting the longitude and latitude data for the neighborhoods.\n\nFoursquare database: https://Foursquare.com to be used in order to explore the desired neighborhood data for various restaurant details and access the JSON files. This data shall be utilized to map the Indian restaurants in various locations.\nProblem solving strategy\n\nStep-1: Using Beautiful Soup, web scraping of the neighborhood data from postal codes of Canada Wiki-link. Clean the Toronto data by removing the missing values and store the data in a python Dataframe consisting of three columns namely: PostalCode, Borough, and Neighborhood.\n\nStep-2: Using Beautiful Soup, web scraping of the neighborhood data from postal codes of Canada Wiki-link. Clean the Montreal data by removing the missing values and store the data in a python Dataframe consisting of three columns namely: PostalCode, Borough, and Neighborhood.\n\nStep-3: Either use geolocator or take the help of long-lat data from the geospatial data wikilink and append the geographical coordinates in the above dataframes to get new respective dataframes for further analysis.\n\nStep-4: Getting location data using the Foursquare API. It will be used to retrieve information of the common venues in Toronto and Montreal neighborhoods. The API will return a JSON file which will be further converted into a Python Dataframe.\n\nStep-5: Exploratory Data Analysis\n\nPlot the prepared location data on the map for visualization purposes.\nPlot and find the relationship between Neighborhoods and Various Restaurants for both cities.\nList down the 10 most common venues for both cities.\nStep-6: Lastly we will discuss the results based on the above findings and provide a snapshot of both cities which will help make a exploratory choice of our family vacation. "
        },
        {
            "metadata": {},
            "cell_type": "code",
            "source": "",
            "execution_count": null,
            "outputs": []
        }
    ],
    "metadata": {
        "kernelspec": {
            "name": "python3",
            "display_name": "Python 3.7",
            "language": "python"
        },
        "language_info": {
            "name": "python",
            "version": "3.7.10",
            "mimetype": "text/x-python",
            "codemirror_mode": {
                "name": "ipython",
                "version": 3
            },
            "pygments_lexer": "ipython3",
            "nbconvert_exporter": "python",
            "file_extension": ".py"
        }
    },
    "nbformat": 4,
    "nbformat_minor": 1
}